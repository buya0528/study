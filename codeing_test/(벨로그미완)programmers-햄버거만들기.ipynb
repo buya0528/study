{
 "cells": [
  {
   "cell_type": "markdown",
   "metadata": {},
   "source": [
    "## 문제 설명\n",
    "햄버거 가게에서 일을 하는 상수는 햄버거를 포장하는 일을 합니다. 함께 일을 하는 다른 직원들이 햄버거에 들어갈 재료를 조리해 주면 조리된 순서대로 상수의 앞에 아래서부터 위로 쌓이게 되고, 상수는 순서에 맞게 쌓여서 완성된 햄버거를 따로 옮겨 포장을 하게 됩니다. 상수가 일하는 가게는 정해진 순서(아래서부터, 빵 – 야채 – 고기 - 빵)로 쌓인 햄버거만 포장을 합니다. 상수는 손이 굉장히 빠르기 때문에 상수가 포장하는 동안 속 재료가 추가적으로 들어오는 일은 없으며, 재료의 높이는 무시하여 재료가 높이 쌓여서 일이 힘들어지는 경우는 없습니다.\n",
    "\n",
    "예를 들어, 상수의 앞에 쌓이는 재료의 순서가 [야채, 빵, 빵, 야채, 고기, 빵, 야채, 고기, 빵]일 때, 상수는 여섯 번째 재료가 쌓였을 때, 세 번째 재료부터 여섯 번째 재료를 이용하여 햄버거를 포장하고, 아홉 번째 재료가 쌓였을 때, 두 번째 재료와 일곱 번째 재료부터 아홉 번째 재료를 이용하여 햄버거를 포장합니다. 즉, 2개의 햄버거를 포장하게 됩니다.\n",
    "\n",
    "상수에게 전해지는 재료의 정보를 나타내는 정수 배열 ingredient가 주어졌을 때, 상수가 포장하는 햄버거의 개수를 return 하도록 solution 함수를 완성하시오."
   ]
  },
  {
   "cell_type": "markdown",
   "metadata": {},
   "source": [
    "## 제한사항\n",
    "- 1 ≤ ingredient의 길이 ≤ 1,000,000\n",
    "- ingredient의 원소는 1, 2, 3 중 하나의 값이며, 순서대로 빵, 야채, 고기를 의미합니다."
   ]
  },
  {
   "attachments": {},
   "cell_type": "markdown",
   "metadata": {},
   "source": [
    "## 입출력 예\n",
    "\n",
    "|ingredient|result\n",
    "|----|:----\n",
    "|[2, 1, 1, 2, 3, 1, 2, 3, 1]|2\n",
    "|[1, 3, 2, 1, 2, 1, 3, 1, 2]|0"
   ]
  },
  {
   "cell_type": "markdown",
   "metadata": {},
   "source": [
    "## 입출력 예 설명\n",
    "입출력 예 #1\n",
    "\n",
    "- 문제 예시와 같습니다.\n",
    "\n",
    "입출력 예 #2\n",
    "\n",
    "- 상수가 포장할 수 있는 햄버거가 없습니다."
   ]
  },
  {
   "cell_type": "code",
   "execution_count": 23,
   "metadata": {},
   "outputs": [
    {
     "name": "stdout",
     "output_type": "stream",
     "text": [
      "2\n"
     ]
    }
   ],
   "source": [
    "def solution(ingredient):\n",
    "    str1 = ''.join(map(str,ingredient))\n",
    "    answer = 0\n",
    "    temp = '1231'\n",
    "    while True :\n",
    "        a=str1.find(temp)\n",
    "        if a != -1:\n",
    "            str1 = str1[0:a] + str1[a+4:]\n",
    "            answer += 1\n",
    "        else :\n",
    "            break\n",
    "    return answer\n",
    "\n",
    "\n",
    "ingredient = [2, 1, 1, 2, 3, 1, 2, 3, 1]\n",
    "print(solution(ingredient))\n",
    "\n",
    "# 5,12 시간초과"
   ]
  },
  {
   "cell_type": "code",
   "execution_count": 28,
   "metadata": {},
   "outputs": [
    {
     "name": "stdout",
     "output_type": "stream",
     "text": [
      "2\n"
     ]
    }
   ],
   "source": [
    "def solution(ingredient):\n",
    "    str1 = ''.join(map(str,ingredient))\n",
    "    answer = 0\n",
    "    temp = '1231'\n",
    "    while True :\n",
    "        a=str1.find(temp)\n",
    "        if a != -1:\n",
    "            str1 = str1.replace(temp,'',1)\n",
    "            answer += 1\n",
    "        else :\n",
    "            break\n",
    "    return answer\n",
    "\n",
    "\n",
    "ingredient = [2, 1, 1, 2, 3, 1, 2, 3, 1]\n",
    "print(solution(ingredient))\n",
    "\n",
    "# 4~8,12 시간초과"
   ]
  },
  {
   "cell_type": "code",
   "execution_count": 35,
   "metadata": {},
   "outputs": [
    {
     "name": "stdout",
     "output_type": "stream",
     "text": [
      "2\n"
     ]
    }
   ],
   "source": [
    "def solution(ingredient):\n",
    "    str1 = ''.join(map(str,ingredient))\n",
    "    str2 = ''.join(map(str,ingredient))\n",
    "    temp = '1231'\n",
    "    while True :\n",
    "        a=str1.find(temp)\n",
    "        if a != -1:\n",
    "            str1 = str1.replace(temp,'')\n",
    "        else :\n",
    "            break\n",
    "    answer = int((len(str2)-len(str1))/4)\n",
    "    return answer\n",
    "\n",
    "\n",
    "ingredient = [2, 1, 1, 2, 3, 1, 2, 3, 1]\n",
    "print(solution(ingredient))"
   ]
  },
  {
   "cell_type": "code",
   "execution_count": 13,
   "metadata": {},
   "outputs": [
    {
     "name": "stdout",
     "output_type": "stream",
     "text": [
      "0 asdsdsd\n",
      "aaaaa\n",
      "[2, 1, 2, 3, 1]\n",
      "1 asdsdsd\n",
      "aaaaa\n",
      "[2]\n",
      "2 asdsdsd\n",
      "2\n"
     ]
    }
   ],
   "source": [
    "def solution(ingredient):\n",
    "    list_ = ingredient\n",
    "    answer = 0\n",
    "    true = True\n",
    "    temp = 0\n",
    "    while true:\n",
    "        true = False\n",
    "        for idx_, a in enumerate(list_):\n",
    "            if temp != 3 and a==1:\n",
    "                temp =1\n",
    "            elif temp == 1 and a==2:\n",
    "                temp += 1\n",
    "            elif temp == 2 and a==3:\n",
    "                temp +=1\n",
    "            elif temp == 3 and a==1:\n",
    "                list_.pop(idx_)\n",
    "                list_.pop(idx_-1)\n",
    "                list_.pop(idx_-2)\n",
    "                list_.pop(idx_-3)\n",
    "                temp = 0\n",
    "                answer += 1\n",
    "                true = True\n",
    "                break      \n",
    "    return answer\n",
    "ingredient = [2, 1, 1, 2, 3, 1, 2, 3, 1]\n",
    "print(solution(ingredient))\n",
    "# 3~12 시간초과"
   ]
  },
  {
   "cell_type": "code",
   "execution_count": 21,
   "metadata": {},
   "outputs": [
    {
     "name": "stdout",
     "output_type": "stream",
     "text": [
      "deque([1, 2, 3, 1])\n",
      "[2, 1, 2, 3, 1]\n",
      "+1\n",
      "deque([1, 2, 3, 1])\n",
      "[2]\n",
      "+1\n",
      "+1\n",
      "끝\n",
      "2\n"
     ]
    }
   ],
   "source": [
    "def solution(ingredient):\n",
    "    from collections import deque\n",
    "    answer = 0\n",
    "    true = True\n",
    "    dqlist = deque([0,0,0,0])\n",
    "    list_ = ingredient\n",
    "    while true :\n",
    "        true = False\n",
    "        for idx_,i in enumerate(list_):\n",
    "            dqlist.popleft()\n",
    "            dqlist.append(i)\n",
    "            if dqlist == deque([1,2,3,1]):\n",
    "                dqlist = deque([0,0,0,0])\n",
    "                answer+=1\n",
    "                true = True\n",
    "                del list_[idx_-3:idx_+1]\n",
    "                break\n",
    "    return answer\n",
    "ingredient = [2, 1, 1, 2, 3, 1, 2, 3, 1]\n",
    "print(solution(ingredient))\n",
    "# 3~9,11,12 시간초과"
   ]
  },
  {
   "cell_type": "code",
   "execution_count": 51,
   "metadata": {},
   "outputs": [
    {
     "name": "stdout",
     "output_type": "stream",
     "text": [
      "2\n",
      "1\n",
      "1\n",
      "2\n",
      "3\n",
      "1\n",
      "[2, 1, 1, 2, 3, 1]\n",
      "[1, 2, 3, 1]\n",
      "[2, 1]\n",
      "2\n",
      "3\n",
      "1\n",
      "[2, 1, 2, 3, 1]\n",
      "[1, 2, 3, 1]\n",
      "[2]\n",
      "2\n"
     ]
    }
   ],
   "source": [
    "def solution(ingredient):\n",
    "    answer = 0\n",
    "    list_ = []\n",
    "    for i in ingredient:\n",
    "        list_.append(i)\n",
    "        if list_[-4:] == [1,2,3,1]:\n",
    "            list_ = list_[:-4]\n",
    "            answer += 1\n",
    "    return answer\n",
    "ingredient = [2, 1, 1, 2, 3, 1, 2, 3, 1]\n",
    "print(solution(ingredient))\n",
    "# 5,12 시간 초과"
   ]
  },
  {
   "cell_type": "code",
   "execution_count": 1,
   "metadata": {},
   "outputs": [
    {
     "name": "stdout",
     "output_type": "stream",
     "text": [
      "2\n"
     ]
    }
   ],
   "source": [
    "def solution(ingredient):\n",
    "    answer = 0\n",
    "    list_ = []\n",
    "    for i in ingredient:\n",
    "        list_.append(i)\n",
    "        if list_[-4:] == [1,2,3,1]:\n",
    "            list_.pop()\n",
    "            list_.pop()\n",
    "            list_.pop()\n",
    "            list_.pop()\n",
    "            answer += 1\n",
    "    return answer\n",
    "ingredient = [2, 1, 1, 2, 3, 1, 2, 3, 1]\n",
    "print(solution(ingredient))"
   ]
  },
  {
   "cell_type": "code",
   "execution_count": null,
   "metadata": {},
   "outputs": [],
   "source": []
  }
 ],
 "metadata": {
  "kernelspec": {
   "display_name": "Python 3.9.12 ('base')",
   "language": "python",
   "name": "python3"
  },
  "language_info": {
   "codemirror_mode": {
    "name": "ipython",
    "version": 3
   },
   "file_extension": ".py",
   "mimetype": "text/x-python",
   "name": "python",
   "nbconvert_exporter": "python",
   "pygments_lexer": "ipython3",
   "version": "3.9.12"
  },
  "orig_nbformat": 4,
  "vscode": {
   "interpreter": {
    "hash": "52788d8830c87fd8fdaa047c49e57cb1124d9adf268f7bf2f73a506aa0daac22"
   }
  }
 },
 "nbformat": 4,
 "nbformat_minor": 2
}
