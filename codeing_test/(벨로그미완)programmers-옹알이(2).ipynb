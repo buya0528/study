{
 "cells": [
  {
   "attachments": {},
   "cell_type": "markdown",
   "metadata": {},
   "source": [
    "## 문제 설명\n",
    "머쓱이는 태어난 지 11개월 된 조카를 돌보고 있습니다.  \n",
    "조카는 아직 \"aya\", \"ye\", \"woo\", \"ma\" 네 가지 발음과 네 가지 발음을 조합해서 만들 수 있는 발음밖에 하지 못하고 연속해서 같은 발음을 하는 것을 어려워합니다.  \n",
    "문자열 배열 babbling이 매개변수로 주어질 때, 머쓱이의 조카가 발음할 수 있는 단어의 개수를 return하도록 solution 함수를 완성해주세요."
   ]
  },
  {
   "attachments": {},
   "cell_type": "markdown",
   "metadata": {},
   "source": [
    "## 제한사항\n",
    "- 1 ≤ babbling의 길이 ≤ 100\n",
    "- 1 ≤ babbling[i]의 길이 ≤ 30\n",
    "- 문자열은 알파벳 소문자로만 이루어져 있습니다.\n"
   ]
  },
  {
   "attachments": {},
   "cell_type": "markdown",
   "metadata": {},
   "source": [
    "## 입출력 예\n",
    "\n",
    "|babbling|result\n",
    "|----|:----\n",
    "|[\"aya\", \"yee\", \"u\", \"maa\"]|1\n",
    "|[\"ayaye\", \"uuu\", \"yeye\", \"yemawoo\", \"ayaayaa\"]\t|2"
   ]
  },
  {
   "attachments": {},
   "cell_type": "markdown",
   "metadata": {},
   "source": [
    "## 입출력 예 설명\n",
    "입출력 예 #1\n",
    "\n",
    "- [\"aya\", \"yee\", \"u\", \"maa\"]에서 발음할 수 있는 것은 \"aya\"뿐입니다. 따라서 1을 return합니다.\n",
    "\n",
    "입출력 예 #2\n",
    "\n",
    "- [\"ayaye\", \"uuuma\", \"yeye\", \"yemawoo\", \"ayaayaa\"]에서 발음할 수 있는 것은 \"aya\" + \"ye\" = \"ayaye\", \"ye\" + \"ma\" + \"woo\" = \"yemawoo\"로 2개입니다. \"yeye\"는 같은 발음이 연속되므로 발음할 수 없습니다. 따라서 2를 return합니다."
   ]
  },
  {
   "attachments": {},
   "cell_type": "markdown",
   "metadata": {},
   "source": [
    "## 유의사항\n",
    "- 네 가지를 붙여 만들 수 있는 발음 이외에는 어떤 발음도 할 수 없는 것으로 규정합니다. 예를 들어 \"woowo\"는 \"woo\"는 발음할 수 있지만 \"wo\"를 발음할 수 없기 때문에 할 수 없는 발음입니다."
   ]
  },
  {
   "cell_type": "code",
   "execution_count": null,
   "metadata": {},
   "outputs": [],
   "source": [
    "def solution(babbling):\n",
    "    boo = [\"aya\", \"ye\", \"woo\", \"ma\"]\n",
    "    answer = 0\n",
    "    for i in babbling:\n",
    "        a = i\n",
    "        cnt = 0\n",
    "        for j in boo:\n",
    "            if j+j not in i:\n",
    "                cnt += 1\n",
    "        if cnt == len(boo):\n",
    "            for j in boo:\n",
    "                a=a.replace(j,'')\n",
    "            if len(a) == 0:\n",
    "                answer += 1\n",
    "    return answer\n",
    "# boo 안의 값을 연속적으로 삭제했을 때 문자열이 붙어서 삭제 되는 경우가 있음"
   ]
  },
  {
   "cell_type": "code",
   "execution_count": null,
   "metadata": {},
   "outputs": [],
   "source": [
    "def solution(babbling):\n",
    "    boo = [\"aya\", \"ye\", \"woo\", \"ma\"]\n",
    "    answer = 0\n",
    "    for i in babbling:\n",
    "        a = i\n",
    "        cnt = 0\n",
    "        for j in boo:\n",
    "            if j+j not in i:\n",
    "                cnt += 1\n",
    "        if cnt == len(boo):\n",
    "            for j in boo:\n",
    "                a=a.replace(j,'0')\n",
    "            if a.replace('0','') == '':\n",
    "                answer += 1\n",
    "    return answer"
   ]
  }
 ],
 "metadata": {
  "kernelspec": {
   "display_name": "Python 3.9.12 ('base')",
   "language": "python",
   "name": "python3"
  },
  "language_info": {
   "name": "python",
   "version": "3.9.12"
  },
  "orig_nbformat": 4,
  "vscode": {
   "interpreter": {
    "hash": "52788d8830c87fd8fdaa047c49e57cb1124d9adf268f7bf2f73a506aa0daac22"
   }
  }
 },
 "nbformat": 4,
 "nbformat_minor": 2
}
