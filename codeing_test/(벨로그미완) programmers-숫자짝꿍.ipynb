{
 "cells": [
  {
   "attachments": {},
   "cell_type": "markdown",
   "metadata": {},
   "source": [
    "## 문제 설명\n",
    "두 정수 X, Y의 임의의 자리에서 공통으로 나타나는 정수 k(0 ≤ k ≤ 9)들을 이용하여 만들 수 있는 가장 큰 정수를 두 수의 짝꿍이라 합니다  \n",
    "(단, 공통으로 나타나는 정수 중 서로 짝지을 수 있는 숫자만 사용합니다).  \n",
    "X, Y의 짝꿍이 존재하지 않으면, 짝꿍은 -1입니다.  \n",
    "X, Y의 짝꿍이 0으로만 구성되어 있다면, 짝꿍은 0입니다.\n",
    "\n",
    "예를 들어, X = 3403이고 Y = 13203이라면, X와 Y의 짝꿍은 X와 Y에서 공통으로 나타나는 3, 0, 3으로 만들 수 있는 가장 큰 정수인 330입니다.  \n",
    "다른 예시로 X = 5525이고 Y = 1255이면 X와 Y의 짝꿍은 X와 Y에서 공통으로 나타나는 2, 5, 5로 만들 수 있는 가장 큰 정수인 552입니다  \n",
    "(X에는 5가 3개, Y에는 5가 2개 나타나므로 남는 5 한 개는 짝 지을 수 없습니다.)  \n",
    "두 정수 X, Y가 주어졌을 때, X, Y의 짝꿍을 return하는 solution 함수를 완성해주세요."
   ]
  },
  {
   "attachments": {},
   "cell_type": "markdown",
   "metadata": {},
   "source": [
    "## 제한사항\n",
    "- 3 ≤ X, Y의 길이(자릿수) ≤ 3,000,000입니다.\n",
    "- X, Y는 0으로 시작하지 않습니다.\n",
    "- X, Y의 짝꿍은 상당히 큰 정수일 수 있으므로, 문자열로 반환합니다."
   ]
  },
  {
   "attachments": {},
   "cell_type": "markdown",
   "metadata": {},
   "source": [
    "## 입출력 예\n",
    "\n",
    "|x|y|result\n",
    "|----|:----|:----\n",
    "|\"100\"|\"2345\"|\"-1\"\n",
    "|\"100\"|\"203045\"|\"0\"\n",
    "|\"100\"|\"123450\"|\"10\"\n",
    "|\"12321\"|\"42531\"|\"321\"\n",
    "|\"5525\"|\"1255\"|\"552\""
   ]
  },
  {
   "attachments": {},
   "cell_type": "markdown",
   "metadata": {},
   "source": [
    "## 입출력 예 설명\n",
    "\n",
    "입출력 예 #1\n",
    "- X, Y의 짝꿍은 존재하지 않습니다.  \n",
    "따라서 \"-1\"을 return합니다.\n",
    "\n",
    "입출력 예 #2\n",
    "- X, Y의 공통된 숫자는 0으로만 구성되어 있기 때문에, 두 수의 짝꿍은 정수 0입니다.  \n",
    "따라서 \"0\"을 return합니다.\n",
    "\n",
    "입출력 예 #3\n",
    "- X, Y의 짝꿍은 10이므로, \"10\"을 return합니다.\n",
    "\n",
    "입출력 예 #4\n",
    "- X, Y의 짝꿍은 321입니다.  \n",
    "따라서 \"321\"을 return합니다.\n",
    "\n",
    "입출력 예 #5\n",
    "- 지문에 설명된 예시와 같습니다."
   ]
  },
  {
   "cell_type": "code",
   "execution_count": 26,
   "metadata": {},
   "outputs": [
    {
     "name": "stdout",
     "output_type": "stream",
     "text": [
      "['3', '2']\n",
      "['3', '2'] sss\n",
      "['3', '2']\n",
      "32\n"
     ]
    }
   ],
   "source": [
    "def solution(X, Y):\n",
    "    x=list(X)\n",
    "    y=list(Y)\n",
    "    answer_list = []\n",
    "    if len(x)<=len(y):\n",
    "        for i in x:\n",
    "            if i in y:\n",
    "                answer_list.append(i)\n",
    "                y.remove(i)\n",
    "    if len(answer_list) == 0:\n",
    "        return '-1'\n",
    "    elif len(answer_list) == 1:\n",
    "        return answer_list[0]\n",
    "    else:\n",
    "        answer_list_re = sorted(answer_list,reverse=True)\n",
    "        answer = ''.join(answer_list_re)\n",
    "        return answer\n",
    "X,Y = \"1032\",\"2345\"\n",
    "print(solution(X, Y))\n",
    "# 0으로만 구성된 값에 대한 처리가 없음"
   ]
  },
  {
   "cell_type": "code",
   "execution_count": 29,
   "metadata": {},
   "outputs": [
    {
     "name": "stdout",
     "output_type": "stream",
     "text": [
      "32\n"
     ]
    }
   ],
   "source": [
    "def solution(X, Y):\n",
    "    x=list(X)\n",
    "    y=list(Y)\n",
    "    answer_list = []\n",
    "    if len(x)<=len(y):\n",
    "        for i in x:\n",
    "            if i in y:\n",
    "                answer_list.append(i)\n",
    "                y.remove(i)\n",
    "    if len(answer_list) == 0:\n",
    "        return '-1'\n",
    "    elif len(answer_list) == 1:\n",
    "        return answer_list[0]\n",
    "    else:\n",
    "        answer_list_re = sorted(answer_list,reverse=True)\n",
    "        answer = ''.join(answer_list_re)\n",
    "        answer = int(answer)\n",
    "        return str(answer)\n",
    "X,Y = \"1032\",\"2345\"\n",
    "print(solution(X, Y))\n",
    "# 테스트 케이스 만점 정확도 반정도 틀림"
   ]
  },
  {
   "cell_type": "code",
   "execution_count": 32,
   "metadata": {},
   "outputs": [
    {
     "name": "stdout",
     "output_type": "stream",
     "text": [
      "32\n"
     ]
    }
   ],
   "source": [
    "def solution(X, Y):\n",
    "    x=sorted(list(X),reverse=True)\n",
    "    y=sorted(list(Y),reverse=True)\n",
    "    answer_list = []\n",
    "    if len(x)<=len(y):\n",
    "        for i in x:\n",
    "            if i in y:\n",
    "                answer_list.append(i)\n",
    "                y.remove(i)\n",
    "    else:\n",
    "        for i in y:\n",
    "            if i in x:\n",
    "                answer_list.append(i)\n",
    "                x.remove(i)\n",
    "    if len(answer_list) == 0:\n",
    "        return '-1'\n",
    "    elif len(answer_list) == 1:\n",
    "        return answer_list[0]\n",
    "    else:\n",
    "        answer = ''.join(answer_list)\n",
    "        answer = int(answer)\n",
    "        return str(answer)\n",
    "X,Y = \"1032\",\"2345\"\n",
    "print(solution(X, Y))\n",
    "# 테스트 케이스 만점 정확도 반정도 틀림"
   ]
  },
  {
   "cell_type": "code",
   "execution_count": 34,
   "metadata": {},
   "outputs": [
    {
     "name": "stdout",
     "output_type": "stream",
     "text": [
      "32\n"
     ]
    }
   ],
   "source": [
    "def solution(X, Y):\n",
    "    x=sorted(list(X),reverse=True)\n",
    "    y=sorted(list(Y),reverse=True)\n",
    "    answer = ''\n",
    "    if len(x)<=len(y):\n",
    "        for i in x:\n",
    "            if i in y:\n",
    "                answer += i\n",
    "                y.remove(i)\n",
    "    else:\n",
    "        for i in y:\n",
    "            if i in x:\n",
    "                answer += i\n",
    "                y.remove(i)\n",
    "    if answer == '':\n",
    "        return '-1'\n",
    "    else :\n",
    "        answer = sorted(list(answer),reverse=True)\n",
    "        answer = ''.join(answer)\n",
    "        return str(int(answer))\n",
    "X,Y = \"1032\",\"2345\"\n",
    "print(solution(X, Y))"
   ]
  },
  {
   "cell_type": "code",
   "execution_count": 9,
   "metadata": {},
   "outputs": [
    {
     "name": "stdout",
     "output_type": "stream",
     "text": [
      "32\n"
     ]
    }
   ],
   "source": [
    "def solution(X, Y):\n",
    "    x = sorted(list(X),reverse=True)\n",
    "    y = sorted(list(Y),reverse=True)\n",
    "    answer = ''\n",
    "    if len(x)<=len(y):\n",
    "        for i in x:\n",
    "            if i in y:\n",
    "                answer += i\n",
    "                y.remove(i)\n",
    "    else:\n",
    "        for i in y:\n",
    "            if i in x:\n",
    "                answer += i\n",
    "                y.remove(i)\n",
    "    if answer == '':\n",
    "        return '-1'\n",
    "    return str(int(answer))\n",
    "X,Y = \"12321\",\"42531\"\n",
    "print(solution(X, Y))"
   ]
  },
  {
   "cell_type": "code",
   "execution_count": 40,
   "metadata": {},
   "outputs": [
    {
     "name": "stdout",
     "output_type": "stream",
     "text": [
      "32211\n"
     ]
    }
   ],
   "source": [
    "def solution(X, Y):\n",
    "    answer = ''\n",
    "    x = list(X)\n",
    "    y = list(Y)\n",
    "    for i in range(9,-1,-1):\n",
    "        answer += str(i)*min(x.count(str(i)),y.count(str(i)))\n",
    "    if answer == '':\n",
    "        return '-1'\n",
    "    return str(int(answer))\n",
    "X,Y = \"12321\",\"42521331\"\n",
    "print(solution(X, Y))\n",
    "# 시간초과"
   ]
  },
  {
   "cell_type": "code",
   "execution_count": 43,
   "metadata": {},
   "outputs": [
    {
     "name": "stdout",
     "output_type": "stream",
     "text": [
      "32211\n"
     ]
    }
   ],
   "source": [
    "def solution(X, Y):\n",
    "    answer = ''\n",
    "    x = list(X)\n",
    "    y = list(Y)\n",
    "    z = list(set(X))\n",
    "    if z == ['0']:\n",
    "        return\n",
    "    z.sort(reverse=True)\n",
    "    for i in z:\n",
    "        if i not in y:\n",
    "            z.remove(i)\n",
    "    for i in z:\n",
    "        answer += i*min(x.count(i),y.count(i))\n",
    "    if answer == '':\n",
    "        return '-1'\n",
    "    return str(int(answer))\n",
    "X,Y = \"12321\",\"42521331\"\n",
    "print(solution(X, Y))\n",
    "# 5개 시간 초과"
   ]
  },
  {
   "cell_type": "code",
   "execution_count": 44,
   "metadata": {},
   "outputs": [],
   "source": [
    "def solution(X, Y):\n",
    "    answer = ''\n",
    "    Z = list(set(X).intersection(list(Y)))\n",
    "    Z.sort()\n",
    "    Z.reverse()\n",
    "    if Z == [\"0\"]:\n",
    "        return \"0\"\n",
    "    elif Z:\n",
    "        for i in Z:\n",
    "            answer += i*min(X.count(i),Y.count(i))\n",
    "        return answer\n",
    "    else:\n",
    "        return \"-1\""
   ]
  },
  {
   "cell_type": "code",
   "execution_count": 1,
   "metadata": {},
   "outputs": [
    {
     "name": "stdout",
     "output_type": "stream",
     "text": [
      "32211\n"
     ]
    }
   ],
   "source": [
    "def solution(X, Y):\n",
    "    answer = ''\n",
    "    for i in range(9,-1,-1):\n",
    "        i = str(i)\n",
    "        if i ==\"0\" and answer ==\"\" and X.count(i) != 0 and Y.count(i) !=0:\n",
    "            return \"0\"\n",
    "        answer += i*min(X.count(i),Y.count(i))\n",
    "    return \"-1\" if answer == \"\" else answer\n",
    "X,Y = \"12321\",\"42521331\"\n",
    "print(solution(X, Y))"
   ]
  },
  {
   "cell_type": "code",
   "execution_count": null,
   "metadata": {},
   "outputs": [],
   "source": []
  }
 ],
 "metadata": {
  "kernelspec": {
   "display_name": "Python 3.9.12 ('base')",
   "language": "python",
   "name": "python3"
  },
  "language_info": {
   "codemirror_mode": {
    "name": "ipython",
    "version": 3
   },
   "file_extension": ".py",
   "mimetype": "text/x-python",
   "name": "python",
   "nbconvert_exporter": "python",
   "pygments_lexer": "ipython3",
   "version": "3.9.12"
  },
  "orig_nbformat": 4,
  "vscode": {
   "interpreter": {
    "hash": "52788d8830c87fd8fdaa047c49e57cb1124d9adf268f7bf2f73a506aa0daac22"
   }
  }
 },
 "nbformat": 4,
 "nbformat_minor": 2
}
