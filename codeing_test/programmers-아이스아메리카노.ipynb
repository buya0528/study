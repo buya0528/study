{
 "cells": [
  {
   "attachments": {},
   "cell_type": "markdown",
   "metadata": {},
   "source": [
    "## 문제 설명\n",
    "머쓱이는 추운 날에도 아이스 아메리카노만 마십니다.\n",
    "아이스 아메리카노는 한잔에 5,500원입니다.\n",
    "머쓱이가 가지고 있는 돈 money가 매개변수로 주어질 때, 머쓱이가 최대로 마실 수 있는 아메리카노의 잔 수와 남는 돈을 순서대로 담은 배열을 return 하도록 solution 함수를 완성해보세요."
   ]
  },
  {
   "attachments": {},
   "cell_type": "markdown",
   "metadata": {},
   "source": [
    "## 제한사항\n",
    "- 0 < money ≤ 1,000,000"
   ]
  },
  {
   "attachments": {},
   "cell_type": "markdown",
   "metadata": {},
   "source": [
    "## 입출력의 예\n",
    "\n",
    "|money|result\n",
    "|----|:----\n",
    "|5,500|[1,0]\n",
    "|15,000|[2,4000]"
   ]
  },
  {
   "attachments": {},
   "cell_type": "markdown",
   "metadata": {},
   "source": [
    "## 입출력 예 설명\n",
    "입출력 예 #1 \n",
    "\n",
    "- 5,500원은 아이스 아메리카노 한 잔을 살 수 있고 잔돈은 0원입니다.\n",
    " \n",
    "입출력 예 #2 \n",
    "\n",
    "- 15,000원은 아이스 아메리카노 두 잔을 살 수 있고 잔돈은 4,000원입니다."
   ]
  },
  {
   "cell_type": "code",
   "execution_count": null,
   "metadata": {},
   "outputs": [],
   "source": [
    "def solution(money):\n",
    "    cnt= money // 5500\n",
    "    change = money % 5500\n",
    "    answer = []\n",
    "    answer.append(cnt)\n",
    "    answer.append(change)\n",
    "    return answer"
   ]
  },
  {
   "cell_type": "code",
   "execution_count": null,
   "metadata": {},
   "outputs": [],
   "source": []
  }
 ],
 "metadata": {
  "kernelspec": {
   "display_name": "Python 3.9.12 ('base')",
   "language": "python",
   "name": "python3"
  },
  "language_info": {
   "name": "python",
   "version": "3.9.12"
  },
  "orig_nbformat": 4,
  "vscode": {
   "interpreter": {
    "hash": "52788d8830c87fd8fdaa047c49e57cb1124d9adf268f7bf2f73a506aa0daac22"
   }
  }
 },
 "nbformat": 4,
 "nbformat_minor": 2
}
