{
 "cells": [
  {
   "attachments": {},
   "cell_type": "markdown",
   "metadata": {},
   "source": [
    "## 문제설명\n",
    "수많은 마라톤 선수들이 마라톤에 참여하였습니다. 단 한 명의 선수를 제외하고는 모든 선수가 마라톤을 완주하였습니다.\n",
    "마라톤에 참여한 선수들의 이름이 담긴 배열 participant와 완주한 선수들의 이름이 담긴 배열 completion이 주어질 때, 완주하지 못한 선수의 이름을 return 하도록 solution 함수를 작성해주세요."
   ]
  },
  {
   "attachments": {},
   "cell_type": "markdown",
   "metadata": {},
   "source": [
    "## 제한사항\n",
    "- 마라톤 경기에 참여한 선수의 수는 1명 이상 100,000명 이하입니다.\n",
    "- completion의 길이는 participant의 길이보다 1 작습니다.\n",
    "- 참가자의 이름은 1개 이상 20개 이하의 알파벳 소문자로 이루어져 있습니다.\n",
    "- 참가자 중에는 동명이인이 있을 수 있습니다.\n"
   ]
  },
  {
   "attachments": {},
   "cell_type": "markdown",
   "metadata": {},
   "source": [
    "## 입출력의 예\n",
    "\n",
    "|participant|completion |return\n",
    "|----|:----|:----:\n",
    "|[\"leo\", \"kiki\", \"eden\"]|[\"eden\", \"kiki\"]  | \"leo\" \t\n",
    "|[\"marina\", \"josipa\", \"nikola\", \"vinko\", \"filipa\"]|[\"josipa\", \"filipa\", \"marina\", \"nikola\"]   | \"vinko\"\n",
    "|[\"mislav\", \"stanko\", \"mislav\", \"ana\"]|[\"stanko\", \"ana\", \"mislav\"]  | \"mislav\""
   ]
  },
  {
   "attachments": {},
   "cell_type": "markdown",
   "metadata": {},
   "source": [
    "## 입출력 예 설명\n",
    "예제 #1\n",
    "    - \"leo\"는 참여자 명단에는 있지만, 완주자 명단에는 없기 때문에 완주하지 못했습니다.\n",
    "예제 #2\n",
    "    - \"vinko\"는 참여자 명단에는 있지만, 완주자 명단에는 없기 때문에 완주하지 못했습니다.\n",
    "예제 #3\n",
    "    - \"mislav\"는 참여자 명단에는 두 명이 있지만, 완주자 명단에는 한 명밖에 없기 때문에 한명은 완주하지 못했습니다."
   ]
  },
  {
   "cell_type": "code",
   "execution_count": null,
   "metadata": {},
   "outputs": [],
   "source": [
    "def solution(participant, completion):\n",
    "    # 딕셔너리생성\n",
    "    hash_table={}\n",
    "    cnt = 0\n",
    "    for i in range(len(participant)):\n",
    "        if participant[i] in hash_table:\n",
    "            while True:\n",
    "                if participant[i] + str(cnt) in hash_table:\n",
    "                    cnt +=1\n",
    "                else:\n",
    "                    hash_table[participant[i] + str(cnt)] = participant[i]\n",
    "                    break\n",
    "        else:\n",
    "            hash_table[participant[i]] = participant[i]\n",
    "    # 딕셔너리에 값이 있는지 확인하고 비교하려 했으나 보류\n",
    "    # answer = ''\n",
    "    # for i in participant:\n",
    "        # if i not in completion:\n",
    "            # answer += i\n",
    "    # return answer\n",
    "#코드가 너무 복잡해서 다른 방식으로 접근하려구함"
   ]
  },
  {
   "cell_type": "code",
   "execution_count": 1,
   "metadata": {},
   "outputs": [],
   "source": [
    "def solution(participant, completion):\n",
    "    for i in completion:\n",
    "        participant.remove(i)\n",
    "    return ','.join(participant)\n",
    "# 정답은 잘 출력되지만 효율성에서 모든 문제 실패"
   ]
  },
  {
   "cell_type": "code",
   "execution_count": 2,
   "metadata": {},
   "outputs": [],
   "source": [
    "def solution(participant, completion):\n",
    "    participant.sort()\n",
    "    completion.sort()\n",
    "    answer = ''\n",
    "    for i in range(len(completion)) :\n",
    "        if participant[i] != completion[i]:\n",
    "            return participant[i]\n",
    "    return participant[-1]\n",
    "# 정렬을 한다면 빨라지지 않을까 했지만 해결되지 않았음"
   ]
  },
  {
   "cell_type": "code",
   "execution_count": null,
   "metadata": {},
   "outputs": [],
   "source": [
    "def solution(participant, completion):\n",
    "    participant.sort()\n",
    "    completion.sort()\n",
    "    answer = ''\n",
    "    for i in range(len(completion)) :\n",
    "        if participant[i] != completion[i]:\n",
    "            return participant[i]\n",
    "    return participant[-1]\n",
    "# 완주하지 못하는 선수는 한명뿐이라는 조건을 확인"
   ]
  }
 ],
 "metadata": {
  "kernelspec": {
   "display_name": "Python 3.9.12 ('base')",
   "language": "python",
   "name": "python3"
  },
  "language_info": {
   "codemirror_mode": {
    "name": "ipython",
    "version": 3
   },
   "file_extension": ".py",
   "mimetype": "text/x-python",
   "name": "python",
   "nbconvert_exporter": "python",
   "pygments_lexer": "ipython3",
   "version": "3.9.12"
  },
  "orig_nbformat": 4,
  "vscode": {
   "interpreter": {
    "hash": "52788d8830c87fd8fdaa047c49e57cb1124d9adf268f7bf2f73a506aa0daac22"
   }
  }
 },
 "nbformat": 4,
 "nbformat_minor": 2
}
