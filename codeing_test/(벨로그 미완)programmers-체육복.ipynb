{
 "cells": [
  {
   "attachments": {},
   "cell_type": "markdown",
   "metadata": {},
   "source": [
    "## 문제 설명\n",
    "점심시간에 도둑이 들어, 일부 학생이 체육복을 도난당했습니다.  \n",
    "다행히 여벌 체육복이 있는 학생이 이들에게 체육복을 빌려주려 합니다.  \n",
    "학생들의 번호는 체격 순으로 매겨져 있어, 바로 앞번호의 학생이나 바로 뒷번호의 학생에게만 체육복을 빌려줄 수 있습니다.  \n",
    "예를 들어, 4번 학생은 3번 학생이나 5번 학생에게만 체육복을 빌려줄 수 있습니다.  \n",
    "체육복이 없으면 수업을 들을 수 없기 때문에 체육복을 적절히 빌려 최대한 많은 학생이 체육수업을 들어야 합니다.  \n",
    "\n",
    "전체 학생의 수 n, 체육복을 도난당한 학생들의 번호가 담긴 배열 lost, 여벌의 체육복을 가져온 학생들의 번호가 담긴 배열 reserve가 매개변수로 주어질 때, 체육수업을 들을 수 있는 학생의 최댓값을 return 하도록 solution 함수를 작성해주세요."
   ]
  },
  {
   "attachments": {},
   "cell_type": "markdown",
   "metadata": {},
   "source": [
    "## 제한사항\n",
    "- 전체 학생의 수는 2명 이상 30명 이하입니다.\n",
    "- 체육복을 도난당한 학생의 수는 1명 이상 n명 이하이고 중복되는 번호는 없습니다.\n",
    "- 여벌의 체육복을 가져온 학생의 수는 1명 이상 n명 이하이고 중복되는 번호는 없습니다.\n",
    "- 여벌 체육복이 있는 학생만 다른 학생에게 체육복을 빌려줄 수 있습니다.\n",
    "- 여벌 체육복을 가져온 학생이 체육복을 도난당했을 수 있습니다. 이때 이 학생은 체육복을 하나만 도난당했다고 가정하며, 남은 체육복이 하나이기에 다른 학생에게는 체육복을 빌려줄 수 없습니다."
   ]
  },
  {
   "attachments": {},
   "cell_type": "markdown",
   "metadata": {},
   "source": [
    "## 입출력의 예\n",
    "\n",
    "|n|lost|reserve|return\n",
    "|----|:----|:----|:----\n",
    "|5|[2,4]|[1,3,5]|5\n",
    "|5|[2,4]|[3]|4\n",
    "|3|[3]|[1]|2"
   ]
  },
  {
   "attachments": {},
   "cell_type": "markdown",
   "metadata": {},
   "source": [
    "## 입출력 예 설명\n",
    "\n",
    "예제 #1\n",
    "\n",
    "- 1번 학생이 2번 학생에게 체육복을 빌려주고, 3번 학생이나 5번 학생이 4번 학생에게 체육복을 빌려주면 학생 5명이 체육수업을 들을 수 있습니다.\n",
    "\n",
    "예제 #2\n",
    "\n",
    "- 3번 학생이 2번 학생이나 4번 학생에게 체육복을 빌려주면 학생 4명이 체육수업을 들을 수 있습니다."
   ]
  },
  {
   "cell_type": "code",
   "execution_count": 7,
   "metadata": {},
   "outputs": [
    {
     "name": "stdout",
     "output_type": "stream",
     "text": [
      "[5]\n",
      "4\n"
     ]
    }
   ],
   "source": [
    "def solution(n, lost, reserve):\n",
    "    temp = lost\n",
    "    for i in reserve:\n",
    "        if i-1 in temp:\n",
    "            temp.remove(i-1)\n",
    "        elif i+1 in temp:\n",
    "            temp.remove(i+1)\n",
    "    answer = n-len(temp)\n",
    "    print(temp)\n",
    "    return answer\n",
    "n = 5\n",
    "lost = [1,3,5] \n",
    "reserve = [2,4]\n",
    "print(solution(n, lost, reserve))"
   ]
  },
  {
   "cell_type": "code",
   "execution_count": 6,
   "metadata": {},
   "outputs": [
    {
     "name": "stdout",
     "output_type": "stream",
     "text": [
      "5\n"
     ]
    }
   ],
   "source": [
    "def solution(n, lost, reserve):\n",
    "    temp = lost\n",
    "    for i in reserve:\n",
    "        if i in temp:\n",
    "            temp.remove(i)\n",
    "        elif i-1 in temp:\n",
    "            temp.remove(i-1)\n",
    "        elif i+1 in temp:\n",
    "            temp.remove(i+1)\n",
    "    answer = n-len(temp)\n",
    "    return answer\n",
    "n = 6\n",
    "lost = [3,4,5] \n",
    "reserve = [3,4,6]\n",
    "print(solution(n, lost, reserve))"
   ]
  },
  {
   "cell_type": "code",
   "execution_count": 16,
   "metadata": {},
   "outputs": [
    {
     "name": "stdout",
     "output_type": "stream",
     "text": [
      "{5} {6}\n",
      "6\n"
     ]
    }
   ],
   "source": [
    "def solution(n, lost, reserve):\n",
    "    set_lost = set(lost)\n",
    "    set_reserve = set(reserve)\n",
    "    new_lost = set_lost-set_reserve\n",
    "    new_reserve = set_reserve-set_lost\n",
    "    for i in new_reserve:\n",
    "        if i-1 in new_lost:\n",
    "            new_lost.remove(i-1)\n",
    "        elif i+1 in new_lost:\n",
    "            new_lost.remove(i+1)\n",
    "    return n-len(new_lost)\n",
    "n = 6\n",
    "lost = [3,4,5] \n",
    "reserve = [3,4,6]\n",
    "print(solution(n, lost, reserve))"
   ]
  },
  {
   "cell_type": "code",
   "execution_count": null,
   "metadata": {},
   "outputs": [],
   "source": []
  }
 ],
 "metadata": {
  "kernelspec": {
   "display_name": "Python 3.9.12 ('base')",
   "language": "python",
   "name": "python3"
  },
  "language_info": {
   "codemirror_mode": {
    "name": "ipython",
    "version": 3
   },
   "file_extension": ".py",
   "mimetype": "text/x-python",
   "name": "python",
   "nbconvert_exporter": "python",
   "pygments_lexer": "ipython3",
   "version": "3.9.12"
  },
  "orig_nbformat": 4,
  "vscode": {
   "interpreter": {
    "hash": "52788d8830c87fd8fdaa047c49e57cb1124d9adf268f7bf2f73a506aa0daac22"
   }
  }
 },
 "nbformat": 4,
 "nbformat_minor": 2
}
