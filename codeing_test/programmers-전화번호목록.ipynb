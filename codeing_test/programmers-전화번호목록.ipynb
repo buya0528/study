{
 "cells": [
  {
   "attachments": {},
   "cell_type": "markdown",
   "metadata": {},
   "source": [
    "## 문제 설명\n",
    "전화번호부에 적힌 전화번호 중, 한 번호가 다른 번호의 접두어인 경우가 있는지 확인하려 합니다.  \n",
    "전화번호가 다음과 같을 경우, 구조대 전화번호는 영석이의 전화번호의 접두사입니다.\n",
    "\n",
    "- 구조대 : 119\n",
    "- 박준영 : 97 674 223\n",
    "- 지영석 : 11 9552 4421\n",
    "\n",
    "전화번호부에 적힌 전화번호를 담은 배열 phone_book 이 solution 함수의 매개변수로 주어질 때,  \n",
    "어떤 번호가 다른 번호의 접두어인 경우가 있으면 false를  \n",
    "그렇지 않으면 true를 return 하도록 solution 함수를 작성해주세요."
   ]
  },
  {
   "attachments": {},
   "cell_type": "markdown",
   "metadata": {},
   "source": [
    "## 제한 사항\n",
    "- phone_book의 길이는 1 이상 1,000,000 이하입니다.\n",
    "  - 각 전화번호의 길이는 1 이상 20 이하입니다.\n",
    "  - 같은 전화번호가 중복해서 들어있지 않습니다."
   ]
  },
  {
   "attachments": {},
   "cell_type": "markdown",
   "metadata": {},
   "source": [
    "## 입출력의 예\n",
    "\n",
    "|phone_book|return\n",
    "|----|:----\n",
    "|[\"119\", \"97674223\", \"1195524421\"]\t|false\n",
    "|[\"123\",\"456\",\"789\"]|true\n",
    "|[\"12\",\"123\",\"1235\",\"567\",\"88\"]|false"
   ]
  },
  {
   "attachments": {},
   "cell_type": "markdown",
   "metadata": {},
   "source": [
    "## 입출력 예 설명\n",
    "입출력 예 #1  \n",
    "\t- 앞에서 설명한 예와 같습니다.\n",
    "입출력 예 #2  \n",
    "\t- 한 번호가 다른 번호의 접두사인 경우가 없으므로, 답은 true입니다.\n",
    "입출력 예 #3  \n",
    "\t- 첫 번째 전화번호, “12”가 두 번째 전화번호 “123”의 접두사입니다. 따라서 답은 false입니다."
   ]
  },
  {
   "cell_type": "code",
   "execution_count": 1,
   "metadata": {},
   "outputs": [],
   "source": [
    "def solution(phone_book):\n",
    "\t# 접두사로 쓰일 전화번호를 꺼내는 for문\n",
    "    for i in range(len(phone_book)):\n",
    "        cnt=0 #카운트 초기화\n",
    "        # 접두사를 비교할 전화 번호를 꺼내는 for문 \n",
    "        for j in range(len(phone_book)):\n",
    "            # 접두사로 쓰인 전화번호와 동일 길이로 슬라이싱한 문자열 비교\n",
    "            if phone_book[j][:len(phone_book[i])] == phone_book[i]:\n",
    "                cnt+=1\n",
    "                if cnt==2: # 자기자신도 비교 하기에 두번 카운트 되면 리턴\n",
    "                    return False\n",
    "\n",
    "    return True\n",
    "# 정확도는 통과했으나 효율성 3번4번 실패"
   ]
  },
  {
   "cell_type": "code",
   "execution_count": 2,
   "metadata": {},
   "outputs": [],
   "source": [
    "def solution(phone_book):\n",
    "    phone_book.sort()\n",
    "    for i in phone_book:\n",
    "        cnt=0 \n",
    "        for j in phone_book:\n",
    "            if j[:len(i)] == i: \n",
    "                cnt+=1 \n",
    "                if cnt==2: \n",
    "                    return False\n",
    "    return True\n",
    "# 정렬을 해보았지만 해결되지않았다"
   ]
  },
  {
   "cell_type": "code",
   "execution_count": 3,
   "metadata": {},
   "outputs": [],
   "source": [
    "def solution(phone_book):\n",
    "    phone_book.sort()\n",
    "    for i in range(len(phone_book)-1):\n",
    "        if phone_book[i] == phone_book[i+1][:len(phone_book[i])]:\n",
    "            return False\n",
    "    return True\n",
    "# 모든리스트를 탐색하지 않고 바로 뒤의 값만 확인하면 됨을 깨닳음"
   ]
  },
  {
   "cell_type": "code",
   "execution_count": null,
   "metadata": {},
   "outputs": [],
   "source": []
  }
 ],
 "metadata": {
  "kernelspec": {
   "display_name": "Python 3.9.12 ('base')",
   "language": "python",
   "name": "python3"
  },
  "language_info": {
   "codemirror_mode": {
    "name": "ipython",
    "version": 3
   },
   "file_extension": ".py",
   "mimetype": "text/x-python",
   "name": "python",
   "nbconvert_exporter": "python",
   "pygments_lexer": "ipython3",
   "version": "3.9.12"
  },
  "orig_nbformat": 4,
  "vscode": {
   "interpreter": {
    "hash": "52788d8830c87fd8fdaa047c49e57cb1124d9adf268f7bf2f73a506aa0daac22"
   }
  }
 },
 "nbformat": 4,
 "nbformat_minor": 2
}
