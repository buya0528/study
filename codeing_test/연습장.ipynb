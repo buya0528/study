{
 "cells": [
  {
   "cell_type": "code",
   "execution_count": 9,
   "metadata": {},
   "outputs": [
    {
     "name": "stdout",
     "output_type": "stream",
     "text": [
      "[29, 6]\n"
     ]
    }
   ],
   "source": [
    "denum1 = 9;num1 = 2;denum2 = 1;num2 = 3\n",
    "def solution(denum1, num1, denum2, num2):\n",
    "    answer = []\n",
    "    # 분수의 합의 분모와 분자를 구한다\n",
    "    to_denum = (denum1*num2) + (denum2*num1);to_num = (num1 * num2)\n",
    "    # 분모와 분자중 더 작은수를 구한다\n",
    "    mine = min(to_denum,to_num)\n",
    "    # 작은수 mine를 높은수 부터 낮은수까지 반복문을 돌림\n",
    "    for i in range(mine,0,-1):\n",
    "        # 공약수를 찾아서 분모분자를 약분\n",
    "        if (to_denum % i == 0) and (to_num % i == 0):\n",
    "            to_denum = int(to_denum / i);to_num = int(to_num / i)\n",
    "            # 반복문 실행종료\n",
    "            break\n",
    "    # 결과를 리스트에 추가\n",
    "    answer.append(to_denum);answer.append(to_num)\n",
    "    return answer\n",
    "print(solution(denum1, num1, denum2, num2))"
   ]
  },
  {
   "attachments": {},
   "cell_type": "markdown",
   "metadata": {},
   "source": [
    "# 이진 탐색 코드 구현"
   ]
  },
  {
   "cell_type": "code",
   "execution_count": 7,
   "metadata": {},
   "outputs": [
    {
     "name": "stdout",
     "output_type": "stream",
     "text": [
      "-1\n"
     ]
    }
   ],
   "source": [
    "L = [2, 5, 7, 9, 11]\n",
    "x = 4\n",
    "def solution(L, x):\n",
    "    low = 0\n",
    "    high = (len(L)-1)\n",
    "    while low <= high:\n",
    "        mid = (high + low) // 2\n",
    "        if L[mid] == x:\n",
    "            return mid\n",
    "        elif L[mid] < x:\n",
    "            low = mid+1\n",
    "        else:\n",
    "            high = mid-1\n",
    "    return -1\n",
    "print(solution(L, x))\n"
   ]
  },
  {
   "attachments": {},
   "cell_type": "markdown",
   "metadata": {},
   "source": [
    "# 피보나치 순열"
   ]
  },
  {
   "cell_type": "code",
   "execution_count": 20,
   "metadata": {},
   "outputs": [
    {
     "name": "stdout",
     "output_type": "stream",
     "text": [
      "13\n"
     ]
    }
   ],
   "source": [
    "# 반복적인 버전\n",
    "def solution(x):\n",
    "    if x == 0:\n",
    "        return 0\n",
    "    if x == 1:\n",
    "        return 1\n",
    "    else :\n",
    "        past = 0; now = 1; answer = 0\n",
    "        for i in range(1,x):\n",
    "            answer = (now+past); past = now; now = answer\n",
    "        return answer"
   ]
  },
  {
   "cell_type": "code",
   "execution_count": null,
   "metadata": {},
   "outputs": [],
   "source": [
    "# 재귀적인 버전\n",
    "def solution(x):\n",
    "    if x == 0:\n",
    "        return 0\n",
    "    elif x == 1:\n",
    "        return 1\n",
    "    else :\n",
    "        return solution(x-1) + solution(x-2)"
   ]
  },
  {
   "attachments": {},
   "cell_type": "markdown",
   "metadata": {},
   "source": [
    "# 재귀적 이진탐색"
   ]
  },
  {
   "cell_type": "code",
   "execution_count": 4,
   "metadata": {},
   "outputs": [],
   "source": [
    "def solution(L, x, l, u):\n",
    "    if l > u:\n",
    "        return -1\n",
    "    mid = (l + u) // 2\n",
    "    if x == L[mid]:\n",
    "        return mid\n",
    "    elif x < L[mid]:\n",
    "        return solution(L, x, l, mid-1)\n",
    "    else:\n",
    "        return solution(L, x, mid+1, u)"
   ]
  },
  {
   "cell_type": "code",
   "execution_count": 2,
   "metadata": {},
   "outputs": [
    {
     "name": "stdout",
     "output_type": "stream",
     "text": [
      "1883845072256 1883844178048\n"
     ]
    }
   ],
   "source": [
    "import copy\n",
    "a=[100]\n",
    "b=copy.deepcopy(a)\n",
    "print(id(a),id(b))"
   ]
  },
  {
   "cell_type": "code",
   "execution_count": 3,
   "metadata": {},
   "outputs": [
    {
     "name": "stdout",
     "output_type": "stream",
     "text": [
      "1883845072256 1883844179136\n"
     ]
    }
   ],
   "source": [
    "c= a.copy()\n",
    "print(id(a),id(c))"
   ]
  },
  {
   "cell_type": "code",
   "execution_count": 1,
   "metadata": {},
   "outputs": [],
   "source": [
    "class Node:\n",
    "    def __init__(self, item):\n",
    "        self.data = item\n",
    "        self.next = None\n",
    "\n",
    "\n",
    "class LinkedList:\n",
    "    def __init__(self):\n",
    "        self.nodeCount = 0\n",
    "        self.head = None\n",
    "        self.tail = None\n",
    "\n",
    "    def getAt(self, pos):\n",
    "        if pos < 1 or pos > self.nodeCount:\n",
    "            return None\n",
    "        i = 1\n",
    "        curr = self.head\n",
    "        while i < pos:\n",
    "            curr = curr.next\n",
    "            i += 1\n",
    "        return curr\n",
    "\n",
    "    def insertAt(self, pos, newNode):\n",
    "        if pos < 1 or pos > self.nodeCount + 1:\n",
    "            return False\n",
    "        if pos == 1:\n",
    "            newNode.next = self.head\n",
    "            self.head = newNode\n",
    "        else:\n",
    "            if pos == self.nodeCount + 1:\n",
    "                prev = self.tail\n",
    "            else:\n",
    "                prev = self.getAt(pos - 1)\n",
    "            newNode.next = prev.next\n",
    "            prev.next = newNode\n",
    "        if pos == self.nodeCount + 1:\n",
    "            self.tail = newNode\n",
    "        self.nodeCount += 1\n",
    "        return True\n",
    "\n",
    "    def popAt(self, pos):\n",
    "        if pos >= 0 and self.nodeCount >= pos:\n",
    "            \n",
    "\n",
    "    def traverse(self):\n",
    "        result = []\n",
    "        curr = self.head\n",
    "        while curr is not None:\n",
    "            result.append(curr.data)\n",
    "            curr = curr.next\n",
    "        return result\n",
    "\n",
    "def solution(x):\n",
    "    return 0"
   ]
  },
  {
   "cell_type": "code",
   "execution_count": 12,
   "metadata": {},
   "outputs": [
    {
     "name": "stdout",
     "output_type": "stream",
     "text": [
      "10\n",
      "20\n",
      "30\n",
      "40\n",
      "50\n"
     ]
    }
   ],
   "source": [
    "a1 = Node(10)\n",
    "a2 = Node(20)\n",
    "a3 = Node(30)\n",
    "a4 = Node(40)\n",
    "a5 = Node(50)\n",
    "\n",
    "b = LinkedList()\n",
    "\n",
    "b.insertAt(1,a1)\n",
    "b.insertAt(2,a2)\n",
    "b.insertAt(3,a3)\n",
    "b.insertAt(4,a4)\n",
    "b.insertAt(5,a5)\n",
    "\n",
    "print(b.head.data)\n",
    "print(b.head.next.data)\n",
    "print(b.head.next.next.data)\n",
    "print(b.head.next.next.next.data)\n",
    "print(b.head.next.next.next.next.data)\n"
   ]
  },
  {
   "cell_type": "code",
   "execution_count": 6,
   "metadata": {},
   "outputs": [
    {
     "name": "stdout",
     "output_type": "stream",
     "text": [
      "4 -5 3 4\n",
      "완\n",
      "4\n",
      "3\n",
      "15\n"
     ]
    }
   ],
   "source": [
    "def solution(numbers):\n",
    "    max_ = -10001\n",
    "    min_ = 10001\n",
    "    max_idx,min_idx = 0,0\n",
    "    for i,j in enumerate(numbers):\n",
    "        if j > max_ :\n",
    "            max_ = j\n",
    "            max_idx = i\n",
    "        if j < min_ :\n",
    "            min_ = j\n",
    "            min_idx = i\n",
    "    numbers.pop(max(min_idx,max_idx))\n",
    "    numbers.pop(min(min_idx,max_idx))\n",
    "    multi = min_ * max_\n",
    "    for i in numbers:\n",
    "        temp = max(min_*i,max_*i)\n",
    "        if temp > multi:\n",
    "            multi = temp\n",
    "    return multi\n",
    "numbers = [1, 2, -3, 4, -5]\n",
    "print(solution(numbers))"
   ]
  },
  {
   "cell_type": "code",
   "execution_count": null,
   "metadata": {},
   "outputs": [],
   "source": [
    "import numpy as np \n",
    "import cv2\n",
    " \n",
    "# 왼쪽 및 오른쪽 카메라 id 확인\n",
    "# 이러한 값은 시스템에 따라 달라질 수 있습니다.\n",
    "CamL_id = 2 # 왼쪽 카메라의 카메라 ID\n",
    "CamR_id = 0 # 오른쪽 카메라의 카메라 ID\n",
    " \n",
    "CamL= cv2.VideoCapture(CamL_id)\n",
    "CamR= cv2.VideoCapture(CamR_id)\n",
    " \n",
    "# 스테레오 영상 보정을 위한 매핑 값 읽기\n",
    "cv_file = cv2.FileStorage(\"data/stereo_rectify_maps.xml\", cv2.FILE_STORAGE_READ)\n",
    "Left_Stereo_Map_x = cv_file.getNode(\"Left_Stereo_Map_x\").mat()\n",
    "Left_Stereo_Map_y = cv_file.getNode(\"Left_Stereo_Map_y\").mat()\n",
    "Right_Stereo_Map_x = cv_file.getNode(\"Right_Stereo_Map_x\").mat()\n",
    "Right_Stereo_Map_y = cv_file.getNode(\"Right_Stereo_Map_y\").mat()\n",
    "cv_file.release()\n",
    " \n",
    "def nothing(x):\n",
    "    pass\n",
    " \n",
    "cv2.namedWindow('disp',cv2.WINDOW_NORMAL)\n",
    "cv2.resizeWindow('disp',600,600)\n",
    " \n",
    "cv2.createTrackbar('numDisparities','disp',1,17,nothing)\n",
    "cv2.createTrackbar('blockSize','disp',5,50,nothing)\n",
    "cv2.createTrackbar('preFilterType','disp',1,1,nothing)\n",
    "cv2.createTrackbar('preFilterSize','disp',2,25,nothing)\n",
    "cv2.createTrackbar('preFilterCap','disp',5,62,nothing)\n",
    "cv2.createTrackbar('textureThreshold','disp',10,100,nothing)\n",
    "cv2.createTrackbar('uniquenessRatio','disp',15,100,nothing)\n",
    "cv2.createTrackbar('speckleRange','disp',0,100,nothing)\n",
    "cv2.createTrackbar('speckleWindowSize','disp',3,25,nothing)\n",
    "cv2.createTrackbar('disp12MaxDiff','disp',5,25,nothing)\n",
    "cv2.createTrackbar('minDisparity','disp',5,25,nothing)\n",
    " \n",
    "# StereoBM 알고리즘 객체 생성\n",
    "stereo = cv2.StereoBM_create()\n",
    " \n",
    "while True:\n",
    "    \n",
    "    # 왼쪽 및 오른쪽 카메라 이미지 캡처 및 저장\n",
    "    retL, imgL= CamL.read()\n",
    "    retR, imgR= CamR.read()\n",
    "    \n",
    "    # 프레임이 캡처된 경우에만 계속합니다.\n",
    "    if retL and retR:\n",
    "        imgR_gray = cv2.cvtColor(imgR,cv2.COLOR_BGR2GRAY)\n",
    "        imgL_gray = cv2.cvtColor(imgL,cv2.COLOR_BGR2GRAY)\n",
    "    \n",
    "        # 왼쪽 이미지에 스테레오 이미지 보정 적용\n",
    "        Left_nice= cv2.remap(imgL_gray,\n",
    "                Left_Stereo_Map_x,\n",
    "                Left_Stereo_Map_y,\n",
    "                cv2.INTER_LANCZOS4,\n",
    "                cv2.BORDER_CONSTANT,\n",
    "                0)\n",
    "        \n",
    "        # 오른쪽 이미지에 스테레오 이미지 보정 적용\n",
    "        Right_nice= cv2.remap(imgR_gray,\n",
    "                Right_Stereo_Map_x,\n",
    "                Right_Stereo_Map_y,\n",
    "                cv2.INTER_LANCZOS4,\n",
    "                cv2.BORDER_CONSTANT,\n",
    "                0)\n",
    "    \n",
    "        # 트랙바 위치를 기준으로 파라미터 업데이트\n",
    "        numDisparities = cv2.getTrackbarPos('numDisparities','disp')*16\n",
    "        blockSize = cv2.getTrackbarPos('blockSize','disp')*2 + 5\n",
    "        preFilterType = cv2.getTrackbarPos('preFilterType','disp')\n",
    "        preFilterSize = cv2.getTrackbarPos('preFilterSize','disp')*2 + 5\n",
    "        preFilterCap = cv2.getTrackbarPos('preFilterCap','disp')\n",
    "        textureThreshold = cv2.getTrackbarPos('textureThreshold','disp')\n",
    "        uniquenessRatio = cv2.getTrackbarPos('uniquenessRatio','disp')\n",
    "        speckleRange = cv2.getTrackbarPos('speckleRange','disp')\n",
    "        speckleWindowSize = cv2.getTrackbarPos('speckleWindowSize','disp')*2\n",
    "        disp12MaxDiff = cv2.getTrackbarPos('disp12MaxDiff','disp')\n",
    "        minDisparity = cv2.getTrackbarPos('minDisparity','disp')\n",
    "        \n",
    "        # 시차 맵을 계산하기 전에 업데이트된 매개 변수 설정\n",
    "        stereo.setNumDisparities(numDisparities)\n",
    "        stereo.setBlockSize(blockSize)\n",
    "        stereo.setPreFilterType(preFilterType)\n",
    "        stereo.setPreFilterSize(preFilterSize)\n",
    "        stereo.setPreFilterCap(preFilterCap)\n",
    "        stereo.setTextureThreshold(textureThreshold)\n",
    "        stereo.setUniquenessRatio(uniquenessRatio)\n",
    "        stereo.setSpeckleRange(speckleRange)\n",
    "        stereo.setSpeckleWindowSize(speckleWindowSize)\n",
    "        stereo.setDisp12MaxDiff(disp12MaxDiff)\n",
    "        stereo.setMinDisparity(minDisparity)\n",
    "    \n",
    "        # 스테레오BM 알고리즘을 이용한 시차 계산\n",
    "        disparity = stereo.compute(Left_nice,Right_nice)\n",
    "        # 참고: 코드는 16비트 서명된 단일 채널 이미지를 반환합니다.\n",
    "        # CV_16S는 16까지 축척된 시차 맵을 포함합니다. 그러니깐\n",
    "        # CV_32F로 변환하여 16회 축소하는 것이 필수입니다.\n",
    "    \n",
    "        # Converting to float32 \n",
    "        disparity = disparity.astype(np.float32)\n",
    "    \n",
    "        # 시차 값 축소 및 정규화\n",
    "        disparity = (disparity/16.0 - minDisparity)/numDisparities\n",
    "    \n",
    "        # 격차 지도 표시\n",
    "        cv2.imshow(\"disp\",disparity)\n",
    "    \n",
    "        # esc 키를 사용하여 창 닫기\n",
    "        if cv2.waitKey(1) == 27:\n",
    "        break\n",
    "    \n",
    "    else:\n",
    "        CamL= cv2.VideoCapture(CamL_id)\n",
    "        CamR= cv2.VideoCapture(CamR_id)"
   ]
  },
  {
   "cell_type": "code",
   "execution_count": 22,
   "metadata": {},
   "outputs": [
    {
     "name": "stdout",
     "output_type": "stream",
     "text": [
      "1223330333221\n"
     ]
    }
   ],
   "source": [
    "def solution(food):\n",
    "    answer = ''\n",
    "    re_answer = ''\n",
    "    for i in range(1,(len(food))):\n",
    "        if food[i] // 2 > 0 :\n",
    "            answer = answer + (food[i]//2)*str(i)\n",
    "            re_answer = ((food[i]//2)*str(i)) + re_answer\n",
    "    return answer +'0'+ re_answer\n",
    "food = [1, 3, 4, 6]\n",
    "print(solution(food))"
   ]
  },
  {
   "cell_type": "code",
   "execution_count": 21,
   "metadata": {},
   "outputs": [
    {
     "name": "stdout",
     "output_type": "stream",
     "text": [
      "122333\n",
      "333221\n"
     ]
    }
   ],
   "source": [
    "answer = ''\n",
    "re_answer = ''\n",
    "for i in range(1,(len(food))):\n",
    "    if food[i] // 2 > 0 :\n",
    "        answer = answer + (food[i]//2)*str(i)\n",
    "        re_answer = ((food[i]//2)*str(i)) + re_answer\n",
    "print(answer)\n",
    "print(re_answer)"
   ]
  },
  {
   "cell_type": "code",
   "execution_count": 10,
   "metadata": {},
   "outputs": [
    {
     "ename": "ImportError",
     "evalue": "cannot import name 'hellaaaaao' from 'test' (c:\\Users\\AI\\Desktop\\git_upload\\codeing_test\\test.py)",
     "output_type": "error",
     "traceback": [
      "\u001b[1;31m---------------------------------------------------------------------------\u001b[0m",
      "\u001b[1;31mImportError\u001b[0m                               Traceback (most recent call last)",
      "\u001b[1;32mc:\\Users\\AI\\Desktop\\git_upload\\codeing_test\\연습장.ipynb 셀 17\u001b[0m in \u001b[0;36m<cell line: 1>\u001b[1;34m()\u001b[0m\n\u001b[1;32m----> <a href='vscode-notebook-cell:/c%3A/Users/AI/Desktop/git_upload/codeing_test/%EC%97%B0%EC%8A%B5%EC%9E%A5.ipynb#X22sZmlsZQ%3D%3D?line=0'>1</a>\u001b[0m \u001b[39mfrom\u001b[39;00m \u001b[39mtest\u001b[39;00m \u001b[39mimport\u001b[39;00m hellaaaaao \u001b[39mas\u001b[39;00m ab\n",
      "\u001b[1;31mImportError\u001b[0m: cannot import name 'hellaaaaao' from 'test' (c:\\Users\\AI\\Desktop\\git_upload\\codeing_test\\test.py)"
     ]
    }
   ],
   "source": [
    "from test import hellaaaaao as ab"
   ]
  },
  {
   "cell_type": "code",
   "execution_count": 11,
   "metadata": {},
   "outputs": [
    {
     "ename": "NameError",
     "evalue": "name 'ab' is not defined",
     "output_type": "error",
     "traceback": [
      "\u001b[1;31m---------------------------------------------------------------------------\u001b[0m",
      "\u001b[1;31mNameError\u001b[0m                                 Traceback (most recent call last)",
      "\u001b[1;32mc:\\Users\\AI\\Desktop\\git_upload\\codeing_test\\연습장.ipynb 셀 18\u001b[0m in \u001b[0;36m<cell line: 1>\u001b[1;34m()\u001b[0m\n\u001b[1;32m----> <a href='vscode-notebook-cell:/c%3A/Users/AI/Desktop/git_upload/codeing_test/%EC%97%B0%EC%8A%B5%EC%9E%A5.ipynb#X23sZmlsZQ%3D%3D?line=0'>1</a>\u001b[0m \u001b[39mprint\u001b[39m(ab(\u001b[39m'\u001b[39m\u001b[39msdfsd\u001b[39m\u001b[39m'\u001b[39m))\n",
      "\u001b[1;31mNameError\u001b[0m: name 'ab' is not defined"
     ]
    }
   ],
   "source": [
    "print(ab('sdfsd'))"
   ]
  },
  {
   "cell_type": "code",
   "execution_count": null,
   "metadata": {},
   "outputs": [],
   "source": []
  }
 ],
 "metadata": {
  "kernelspec": {
   "display_name": "Python 3.9.12 ('base')",
   "language": "python",
   "name": "python3"
  },
  "language_info": {
   "codemirror_mode": {
    "name": "ipython",
    "version": 3
   },
   "file_extension": ".py",
   "mimetype": "text/x-python",
   "name": "python",
   "nbconvert_exporter": "python",
   "pygments_lexer": "ipython3",
   "version": "3.9.12"
  },
  "orig_nbformat": 4,
  "vscode": {
   "interpreter": {
    "hash": "52788d8830c87fd8fdaa047c49e57cb1124d9adf268f7bf2f73a506aa0daac22"
   }
  }
 },
 "nbformat": 4,
 "nbformat_minor": 2
}
