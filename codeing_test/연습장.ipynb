{
 "cells": [
  {
   "cell_type": "code",
   "execution_count": 9,
   "metadata": {},
   "outputs": [
    {
     "name": "stdout",
     "output_type": "stream",
     "text": [
      "[29, 6]\n"
     ]
    }
   ],
   "source": [
    "denum1 = 9;num1 = 2;denum2 = 1;num2 = 3\n",
    "def solution(denum1, num1, denum2, num2):\n",
    "    answer = []\n",
    "    # 분수의 합의 분모와 분자를 구한다\n",
    "    to_denum = (denum1*num2) + (denum2*num1);to_num = (num1 * num2)\n",
    "    # 분모와 분자중 더 작은수를 구한다\n",
    "    mine = min(to_denum,to_num)\n",
    "    # 작은수 mine를 높은수 부터 낮은수까지 반복문을 돌림\n",
    "    for i in range(mine,0,-1):\n",
    "        # 공약수를 찾아서 분모분자를 약분\n",
    "        if (to_denum % i == 0) and (to_num % i == 0):\n",
    "            to_denum = int(to_denum / i);to_num = int(to_num / i)\n",
    "            # 반복문 실행종료\n",
    "            break\n",
    "    # 결과를 리스트에 추가\n",
    "    answer.append(to_denum);answer.append(to_num)\n",
    "    return answer\n",
    "print(solution(denum1, num1, denum2, num2))"
   ]
  },
  {
   "attachments": {},
   "cell_type": "markdown",
   "metadata": {},
   "source": [
    "# 이진 탐색 코드 구현"
   ]
  },
  {
   "cell_type": "code",
   "execution_count": 7,
   "metadata": {},
   "outputs": [
    {
     "name": "stdout",
     "output_type": "stream",
     "text": [
      "-1\n"
     ]
    }
   ],
   "source": [
    "L = [2, 5, 7, 9, 11]\n",
    "x = 4\n",
    "def solution(L, x):\n",
    "    low = 0\n",
    "    high = (len(L)-1)\n",
    "    while low <= high:\n",
    "        mid = (high + low) // 2\n",
    "        if L[mid] == x:\n",
    "            return mid\n",
    "        elif L[mid] < x:\n",
    "            low = mid+1\n",
    "        else:\n",
    "            high = mid-1\n",
    "    return -1\n",
    "print(solution(L, x))\n"
   ]
  },
  {
   "attachments": {},
   "cell_type": "markdown",
   "metadata": {},
   "source": [
    "# 피보나치 순열"
   ]
  },
  {
   "cell_type": "code",
   "execution_count": 20,
   "metadata": {},
   "outputs": [
    {
     "name": "stdout",
     "output_type": "stream",
     "text": [
      "13\n"
     ]
    }
   ],
   "source": [
    "# 반복적인 버전\n",
    "def solution(x):\n",
    "    if x == 0:\n",
    "        return 0\n",
    "    if x == 1:\n",
    "        return 1\n",
    "    else :\n",
    "        past = 0; now = 1; answer = 0\n",
    "        for i in range(1,x):\n",
    "            answer = (now+past); past = now; now = answer\n",
    "        return answer"
   ]
  },
  {
   "cell_type": "code",
   "execution_count": null,
   "metadata": {},
   "outputs": [],
   "source": [
    "# 재귀적인 버전\n",
    "def solution(x):\n",
    "    if x == 0:\n",
    "        return 0\n",
    "    elif x == 1:\n",
    "        return 1\n",
    "    else :\n",
    "        return solution(x-1) + solution(x-2)"
   ]
  },
  {
   "attachments": {},
   "cell_type": "markdown",
   "metadata": {},
   "source": [
    "# 재귀적 이진탐색"
   ]
  },
  {
   "cell_type": "code",
   "execution_count": 4,
   "metadata": {},
   "outputs": [],
   "source": [
    "def solution(L, x, l, u):\n",
    "    if l > u:\n",
    "        return -1\n",
    "    mid = (l + u) // 2\n",
    "    if x == L[mid]:\n",
    "        return mid\n",
    "    elif x < L[mid]:\n",
    "        return solution(L, x, l, mid-1)\n",
    "    else:\n",
    "        return solution(L, x, mid+1, u)"
   ]
  },
  {
   "cell_type": "code",
   "execution_count": 2,
   "metadata": {},
   "outputs": [
    {
     "name": "stdout",
     "output_type": "stream",
     "text": [
      "1883845072256 1883844178048\n"
     ]
    }
   ],
   "source": [
    "import copy\n",
    "a=[100]\n",
    "b=copy.deepcopy(a)\n",
    "print(id(a),id(b))"
   ]
  },
  {
   "cell_type": "code",
   "execution_count": 3,
   "metadata": {},
   "outputs": [
    {
     "name": "stdout",
     "output_type": "stream",
     "text": [
      "1883845072256 1883844179136\n"
     ]
    }
   ],
   "source": [
    "c= a.copy()\n",
    "print(id(a),id(c))"
   ]
  },
  {
   "cell_type": "code",
   "execution_count": null,
   "metadata": {},
   "outputs": [],
   "source": [
    "class Node:\n",
    "    def __init__ (self, item):\n",
    "        self.deta = item\n",
    "        self.next = None\n",
    "    \n",
    "class LinkedList:\n",
    "    def __init__(self):\n",
    "        self.nodeCount = 0\n",
    "        self.head = None\n",
    "        self.tall = None"
   ]
  },
  {
   "cell_type": "code",
   "execution_count": 2,
   "metadata": {},
   "outputs": [],
   "source": [
    "class Node:\n",
    "    def __init__(self, item):\n",
    "        self.data = item\n",
    "        self.next = None\n",
    "\n",
    "class LinkedList:\n",
    "    def __init__(self):\n",
    "        self.nodeCount = 0\n",
    "        self.head = None\n",
    "        self.tail = None\n",
    "\n",
    "    def getAt(self, pos):\n",
    "        if pos < 1 or pos > self.nodeCount:\n",
    "            return None\n",
    "        i = 1\n",
    "        curr = self.head\n",
    "        while i < pos:\n",
    "            curr = curr.next\n",
    "            i += 1\n",
    "        return curr\n",
    "\n",
    "    def traverse(self):\n",
    "        bins = [] # 빈 리스트 만들어줌\n",
    "        curr = self.head # 헤드를 담아준다.\n",
    "        while curr != None: # 헤드가 있는 동안 \n",
    "            bins.append(curr.data) # 데이터를 넣는다.\n",
    "            curr = curr.next # 연결을 재정의한다. \n",
    "        return bins # 리스트 출력한다. \n",
    "\n",
    "# 이 solution 함수는 그대로 두어야 합니다.\n",
    "def solution(x):\n",
    "    return 0"
   ]
  },
  {
   "cell_type": "code",
   "execution_count": null,
   "metadata": {},
   "outputs": [],
   "source": [
    "class Node:\n",
    "\n",
    "    def __init__(self, item):\n",
    "        self.data = item\n",
    "        self.next = None\n",
    "\n",
    "\n",
    "class LinkedList:\n",
    "    def __init__(self):\n",
    "        self.nodeCount = 0\n",
    "        self.head = None\n",
    "        self.tail = None\n",
    "\n",
    "    def getAt(self, pos):\n",
    "        if pos < 1 or pos > self.nodeCount:\n",
    "            return None\n",
    "        i = 1\n",
    "        curr = self.head\n",
    "        while i < pos:\n",
    "            curr = curr.next\n",
    "            i += 1\n",
    "        return curr\n",
    "\n",
    "    def insertAt(self, pos, newNode):\n",
    "        if pos < 1 or pos > self.nodeCount + 1:\n",
    "            return False\n",
    "        if pos == 1:\n",
    "            newNode.next = self.head\n",
    "            self.head = newNode\n",
    "        else:\n",
    "            if pos == self.nodeCount + 1:\n",
    "                prev = self.tail\n",
    "            else:\n",
    "                prev = self.getAt(pos - 1)\n",
    "            newNode.next = prev.next\n",
    "            prev.next = newNode\n",
    "        if pos == self.nodeCount + 1:\n",
    "            self.tail = newNode\n",
    "        self.nodeCount += 1\n",
    "        return True\n",
    "\n",
    "    def popAt(self, pos):\n",
    "        pass\n",
    "\n",
    "    def traverse(self):\n",
    "        result = []\n",
    "        curr = self.head\n",
    "        while curr is not None:\n",
    "            result.append(curr.data)\n",
    "            curr = curr.next\n",
    "        return result\n",
    "\n",
    "def solution(x):\n",
    "    return 0"
   ]
  },
  {
   "cell_type": "code",
   "execution_count": null,
   "metadata": {
    "tags": []
   },
   "outputs": [],
   "source": [
    "class Node:\n",
    "\n",
    "    def __init__(self, item):\n",
    "        self.data = item\n",
    "        self.next = None\n",
    "\n",
    "class LinkedList:\n",
    "    def __init__(self):\n",
    "        self.nodeCount = 0\n",
    "        self.head = None\n",
    "        self.tail = None\n",
    "\n",
    "    def __repr__(self):\n",
    "        if self.nodeCount == 0:\n",
    "            return 'LinkedList: empty'\n",
    "        s = ''\n",
    "        curr = self.head\n",
    "        while curr is not None:\n",
    "            s += repr(curr.data)\n",
    "            if curr.next is not None:\n",
    "                s += ' -> '\n",
    "            curr = curr.next\n",
    "        return s\n",
    "\n",
    "    def getAt(self, pos):\n",
    "        if pos < 1 or pos > self.nodeCount:\n",
    "            return None\n",
    "        i = 1\n",
    "        curr = self.head\n",
    "        while i < pos:\n",
    "            curr = curr.next\n",
    "            i += 1\n",
    "        return curr\n",
    "\n",
    "    def insertAt(self, pos, newNode):\n",
    "        if pos < 1 or pos > self.nodeCount + 1:\n",
    "            return False\n",
    "        if pos == 1:\n",
    "            newNode.next = self.head\n",
    "            self.head = newNode\n",
    "        else:\n",
    "            if pos == self.nodeCount + 1:\n",
    "                prev = self.tail\n",
    "            else:\n",
    "                prev = self.getAt(pos - 1)\n",
    "            newNode.next = prev.next\n",
    "            prev.next = newNode\n",
    "        if pos == self.nodeCount + 1:\n",
    "            self.tail = newNode\n",
    "        self.nodeCount += 1\n",
    "        return True\n",
    "\n",
    "    def getLength(self):\n",
    "        return self.nodeCount\n",
    "\n",
    "    def traverse(self):\n",
    "        result = []\n",
    "        curr = self.head\n",
    "        while curr is not None:\n",
    "            result.append(curr.data)\n",
    "            curr = curr.next\n",
    "        return result\n",
    "\n",
    "    def concat(self, L):\n",
    "        self.tail.next = L.head\n",
    "        if L.tail:\n",
    "            self.tail = L.tail\n",
    "        self.nodeCount += L.nodeCount\n"
   ]
  },
  {
   "cell_type": "code",
   "execution_count": 6,
   "metadata": {},
   "outputs": [
    {
     "name": "stdout",
     "output_type": "stream",
     "text": [
      "4 -5 3 4\n",
      "완\n",
      "4\n",
      "3\n",
      "15\n"
     ]
    }
   ],
   "source": [
    "def solution(numbers):\n",
    "    max_ = -10001\n",
    "    min_ = 10001\n",
    "    max_idx,min_idx = 0,0\n",
    "    for i,j in enumerate(numbers):\n",
    "        if j > max_ :\n",
    "            max_ = j\n",
    "            max_idx = i\n",
    "        if j < min_ :\n",
    "            min_ = j\n",
    "            min_idx = i\n",
    "    numbers.pop(max(min_idx,max_idx))\n",
    "    numbers.pop(min(min_idx,max_idx))\n",
    "    multi = min_ * max_\n",
    "    for i in numbers:\n",
    "        temp = max(min_*i,max_*i)\n",
    "        if temp > multi:\n",
    "            multi = temp\n",
    "    return multi\n",
    "numbers = [1, 2, -3, 4, -5]\n",
    "print(solution(numbers))"
   ]
  },
  {
   "cell_type": "code",
   "execution_count": null,
   "metadata": {},
   "outputs": [],
   "source": [
    "from flask import Flask\n",
    "app = Flask(__name__)\n",
    "@app.route('/')\n",
    "def index():\n",
    "    return'Hello World!'\n",
    "@app.route('/led/on')\n",
    "def led_on():\n",
    "    return 'LED ON'\n",
    "@app.route('/led/off')\n",
    "def led_off():\n",
    "    return 'LED OFF'\n",
    "if __name__ == '__main__' :\n",
    "    app.run(host = '0.0.0.0', port = 5000)"
   ]
  },
  {
   "cell_type": "code",
   "execution_count": 2,
   "metadata": {
    "tags": []
   },
   "outputs": [
    {
     "name": "stdout",
     "output_type": "stream",
     "text": [
      "6\n"
     ]
    }
   ],
   "source": [
    "def f(a=3,b=4):\n",
    "    return a*b\n",
    "print(f(2,3)) "
   ]
  },
  {
   "cell_type": "code",
   "execution_count": null,
   "metadata": {},
   "outputs": [],
   "source": []
  }
 ],
 "metadata": {
  "kernelspec": {
   "display_name": "Python 3.9.12 ('base')",
   "language": "python",
   "name": "python3"
  },
  "language_info": {
   "codemirror_mode": {
    "name": "ipython",
    "version": 3
   },
   "file_extension": ".py",
   "mimetype": "text/x-python",
   "name": "python",
   "nbconvert_exporter": "python",
   "pygments_lexer": "ipython3",
   "version": "3.9.12"
  },
  "orig_nbformat": 4,
  "vscode": {
   "interpreter": {
    "hash": "52788d8830c87fd8fdaa047c49e57cb1124d9adf268f7bf2f73a506aa0daac22"
   }
  }
 },
 "nbformat": 4,
 "nbformat_minor": 2
}
