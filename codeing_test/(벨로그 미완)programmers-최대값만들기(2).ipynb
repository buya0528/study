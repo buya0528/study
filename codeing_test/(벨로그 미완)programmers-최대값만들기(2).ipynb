{
 "cells": [
  {
   "attachments": {},
   "cell_type": "markdown",
   "metadata": {},
   "source": [
    "## 문제 설명\n",
    "정수 배열 numbers가 매개변수로 주어집니다.  \n",
    "numbers의 원소 중 두 개를 곱해 만들 수 있는 최댓값을 return하도록 solution 함수를 완성해주세요."
   ]
  },
  {
   "attachments": {},
   "cell_type": "markdown",
   "metadata": {},
   "source": [
    "## 제한사항\n",
    "- -10,000 ≤ numbers의 원소 ≤ 10,000\n",
    "- 2 ≤ numbers 의 길이 ≤ 100"
   ]
  },
  {
   "attachments": {},
   "cell_type": "markdown",
   "metadata": {},
   "source": [
    "## 입출력 예\n",
    "\n",
    "|numbers|result\n",
    "|----|:----\n",
    "|[1, 2, -3, 4, -5]|15\n",
    "|[0, -31, 24, 10, 1, 9]|240\n",
    "|[10, 20, 30, 5, 5, 20, 5]|600\n"
   ]
  },
  {
   "attachments": {},
   "cell_type": "markdown",
   "metadata": {},
   "source": [
    "## 입출력 예 설명\n",
    "입출력 예 #1\n",
    "- 두 수의 곱중 최댓값은 -3 * -5 = 15 입니다.\n",
    "\n",
    "입출력 예 #2\n",
    "- 두 수의 곱중 최댓값은 10 * 24 = 240 입니다.\n",
    "\n",
    "입출력 예 #3\n",
    "- 두 수의 곱중 최댓값은 20 * 30 = 600 입니다."
   ]
  },
  {
   "cell_type": "code",
   "execution_count": null,
   "metadata": {},
   "outputs": [],
   "source": [
    "def solution(numbers):\n",
    "    max_ = -10001\n",
    "    min_ = 10001\n",
    "    max_idx,min_idx = 0,0\n",
    "    for i,j in enumerate(numbers):\n",
    "        if j > max_ :\n",
    "            max_ = j\n",
    "            max_idx = i\n",
    "        if j < min_ :\n",
    "            min_ = j\n",
    "            min_idx = i\n",
    "    numbers.pop(max(min_idx,max_idx))\n",
    "    numbers.pop(min(min_idx,max_idx))\n",
    "    multi = min_ * max_\n",
    "    for i in numbers:\n",
    "        temp = max(min_*i,max_*i)\n",
    "        if temp > multi:\n",
    "            multi = temp\n",
    "    return multi"
   ]
  },
  {
   "cell_type": "code",
   "execution_count": null,
   "metadata": {},
   "outputs": [],
   "source": []
  }
 ],
 "metadata": {
  "kernelspec": {
   "display_name": "Python 3.9.12 ('base')",
   "language": "python",
   "name": "python3"
  },
  "language_info": {
   "name": "python",
   "version": "3.9.12"
  },
  "orig_nbformat": 4,
  "vscode": {
   "interpreter": {
    "hash": "52788d8830c87fd8fdaa047c49e57cb1124d9adf268f7bf2f73a506aa0daac22"
   }
  }
 },
 "nbformat": 4,
 "nbformat_minor": 2
}
