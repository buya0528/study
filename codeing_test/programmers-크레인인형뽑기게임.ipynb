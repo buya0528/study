{
 "cells": [
  {
   "cell_type": "markdown",
   "metadata": {},
   "source": [
    "## 문제 설명\n",
    "게임개발자인 \"죠르디\"는 크레인 인형뽑기 기계를 모바일 게임으로 만들려고 합니다.  \n",
    "\"죠르디\"는 게임의 재미를 높이기 위해 화면 구성과 규칙을 다음과 같이 게임 로직에 반영하려고 합니다."
   ]
  },
  {
   "attachments": {},
   "cell_type": "markdown",
   "metadata": {},
   "source": [
    "![](https://velog.velcdn.com/images/wjdguq0528/post/7ab81dc0-127d-47c7-8bc9-2723e84f74e8/image.png)"
   ]
  },
  {
   "attachments": {},
   "cell_type": "markdown",
   "metadata": {},
   "source": [
    "게임 화면은 \"1 x 1\" 크기의 칸들로 이루어진 \"N x N\" 크기의 정사각 격자이며 위쪽에는 크레인이 있고 오른쪽에는 바구니가 있습니다. (위 그림은 \"5 x 5\" 크기의 예시입니다).  \n",
    "각 격자 칸에는 다양한 인형이 들어 있으며 인형이 없는 칸은 빈칸입니다.  \n",
    "모든 인형은 \"1 x 1\" 크기의 격자 한 칸을 차지하며 격자의 가장 아래 칸부터 차곡차곡 쌓여 있습니다.  \n",
    "게임 사용자는 크레인을 좌우로 움직여서 멈춘 위치에서 가장 위에 있는 인형을 집어 올릴 수 있습니다.  \n",
    "집어 올린 인형은 바구니에 쌓이게 되는 데, 이때 바구니의 가장 아래 칸부터 인형이 순서대로 쌓이게 됩니다.  \n",
    "다음 그림은 [1번, 5번, 3번] 위치에서 순서대로 인형을 집어 올려 바구니에 담은 모습입니다."
   ]
  },
  {
   "attachments": {},
   "cell_type": "markdown",
   "metadata": {},
   "source": [
    "![](https://velog.velcdn.com/images/wjdguq0528/post/b328b5e6-1899-484b-bf45-04edea207fe5/image.png)"
   ]
  },
  {
   "attachments": {},
   "cell_type": "markdown",
   "metadata": {},
   "source": [
    "만약 같은 모양의 인형 두 개가 바구니에 연속해서 쌓이게 되면 두 인형은 터뜨려지면서 바구니에서 사라지게 됩니다.  \n",
    "위 상태에서 이어서 [5번] 위치에서 인형을 집어 바구니에 쌓으면 같은 모양 인형 두 개가 없어집니다."
   ]
  },
  {
   "attachments": {},
   "cell_type": "markdown",
   "metadata": {},
   "source": [
    "![](https://velog.velcdn.com/images/wjdguq0528/post/f5c57885-61f6-4865-b010-d3ad65bb692e/image.gif)"
   ]
  },
  {
   "attachments": {},
   "cell_type": "markdown",
   "metadata": {},
   "source": [
    "크레인 작동 시 인형이 집어지지 않는 경우는 없으나 만약 인형이 없는 곳에서 크레인을 작동시키는 경우에는 아무런 일도 일어나지 않습니다.  \n",
    "또한 바구니는 모든 인형이 들어갈 수 있을 만큼 충분히 크다고 가정합니다.  \n",
    "(그림에서는 화면표시 제약으로 5칸만으로 표현하였음)\n",
    "\n",
    "게임 화면의 격자의 상태가 담긴 2차원 배열 board와 인형을 집기 위해 크레인을 작동시킨 위치가 담긴 배열 moves가 매개변수로 주어질 때, 크레인을 모두 작동시킨 후 터트려져 사라진 인형의 개수를 return 하도록 solution 함수를 완성해주세요."
   ]
  },
  {
   "attachments": {},
   "cell_type": "markdown",
   "metadata": {},
   "source": [
    "## 제한사항\n",
    "- board 배열은 2차원 배열로 크기는 \"5 x 5\" 이상 \"30 x 30\" 이하입니다.\n",
    "- board의 각 칸에는 0 이상 100 이하인 정수가 담겨있습니다.\n",
    "    - 0은 빈 칸을 나타냅니다.\n",
    "    - 1 ~ 100의 각 숫자는 각기 다른 인형의 모양을 의미하며 같은 숫자는 같은 모양의 인형을 나타냅니다.\n",
    "- moves 배열의 크기는 1 이상 1,000 이하입니다.\n",
    "- moves 배열 각 원소들의 값은 1 이상이며 board 배열의 가로 크기 이하인 자연수입니다."
   ]
  },
  {
   "attachments": {},
   "cell_type": "markdown",
   "metadata": {},
   "source": [
    "## 입출력의 예\n",
    "\n",
    "|board|moves|result\n",
    "|----|:----|:----\n",
    "|[[0,0,0,0,0],[0,0,1,0,3],[0,2,5,0,1],[4,2,4,4,2],[3,5,1,3,1]]|[1,5,3,5,1,2,1,4]|4"
   ]
  },
  {
   "attachments": {},
   "cell_type": "markdown",
   "metadata": {},
   "source": [
    "## 입출력의 예 에 대한 설명\n",
    "입출력 예 #1\n",
    "\n",
    "- 인형의 처음 상태는 문제에 주어진 예시와 같습니다.  \n",
    "크레인이 [1, 5, 3, 5, 1, 2, 1, 4] 번 위치에서 차례대로 인형을 집어서 바구니에 옮겨 담은 후, 상태는 아래 그림과 같으며 바구니에 담는 과정에서 터트려져 사라진 인형은 4개 입니다."
   ]
  },
  {
   "attachments": {},
   "cell_type": "markdown",
   "metadata": {},
   "source": [
    "![](https://velog.velcdn.com/images/wjdguq0528/post/68c03a8c-abb1-43d5-9ada-60d4478eb8de/image.jpg)"
   ]
  },
  {
   "cell_type": "code",
   "execution_count": 1,
   "metadata": {},
   "outputs": [],
   "source": [
    "import numpy as np\n",
    "def solution(board, moves):\n",
    "    basket = []\n",
    "    board_T = []\n",
    "    answer = 0\n",
    "    npboard = np.array(board)\n",
    "    for i in range(len(npboard)):\n",
    "        new_array = []\n",
    "        for j in npboard[:,i:i+1]:\n",
    "            if j[0] != 0:\n",
    "                new_array.append(j[0])\n",
    "        board_T.append(new_array)\n",
    "    for i in moves:\n",
    "        if len(board_T[i-1]) != 0:\n",
    "            basket.append(board_T[i-1][0])\n",
    "            del board_T[i-1][0]\n",
    "            if len(basket) >= 2:\n",
    "                if basket[-1] == basket[-2]:\n",
    "                    answer += 2\n",
    "                    del basket[-1]\n",
    "                    del basket[-1]"
   ]
  },
  {
   "cell_type": "code",
   "execution_count": 2,
   "metadata": {},
   "outputs": [],
   "source": [
    "# 넘파이의 전치를 사용해서 접근\n",
    "import numpy as np\n",
    "def solution(board, moves):\n",
    "    basket = []\n",
    "    answer = 0\n",
    "    npboard = np.array(board)\n",
    "    board_T = npboard.T\n",
    "    for i in moves:\n",
    "        for j in range(len(board_T[i-1])):\n",
    "            temp = board_T[i-1][j]\n",
    "            if temp != 0:\n",
    "                board_T[i-1][j] = 0\n",
    "                break\n",
    "        if temp != 0 :\n",
    "            basket.append(temp)\n",
    "            if len(basket) >=2 :\n",
    "                if basket[-1] == basket[-2]:\n",
    "                    answer += 2\n",
    "                    del basket[-1]\n",
    "                    del basket[-1]\n",
    "    return answer"
   ]
  },
  {
   "cell_type": "code",
   "execution_count": null,
   "metadata": {},
   "outputs": [],
   "source": [
    "# 넘파이를 사용하지 않고 접근\n",
    "def solution(board, moves):\n",
    "    answer = 0\n",
    "    basket = []\n",
    "    for i in moves:\n",
    "        for j in range(len(board)):\n",
    "            temp = board[j][i-1]\n",
    "            if temp != 0:\n",
    "                board[j][i-1] = 0\n",
    "                break\n",
    "        if temp != 0:\n",
    "            basket.append(temp)\n",
    "            if len(basket) >= 2:\n",
    "                if basket[-1] == basket[-2]:\n",
    "                    del basket[-1]\n",
    "                    del basket[-1]\n",
    "                    answer += 2\n",
    "    return answer"
   ]
  }
 ],
 "metadata": {
  "kernelspec": {
   "display_name": "Python 3.9.12 ('base')",
   "language": "python",
   "name": "python3"
  },
  "language_info": {
   "codemirror_mode": {
    "name": "ipython",
    "version": 3
   },
   "file_extension": ".py",
   "mimetype": "text/x-python",
   "name": "python",
   "nbconvert_exporter": "python",
   "pygments_lexer": "ipython3",
   "version": "3.9.12"
  },
  "orig_nbformat": 4,
  "vscode": {
   "interpreter": {
    "hash": "52788d8830c87fd8fdaa047c49e57cb1124d9adf268f7bf2f73a506aa0daac22"
   }
  }
 },
 "nbformat": 4,
 "nbformat_minor": 2
}
