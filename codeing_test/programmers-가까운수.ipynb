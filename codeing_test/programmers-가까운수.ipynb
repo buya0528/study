{
 "cells": [
  {
   "cell_type": "markdown",
   "metadata": {},
   "source": [
    "## 문제 설명\n",
    "정수 배열 array와 정수 n이 매개변수로 주어질 때, array에 들어있는 정수 중 n과 가장 가까운 수를 return 하도록 solution 함수를 완성해주세요."
   ]
  },
  {
   "attachments": {},
   "cell_type": "markdown",
   "metadata": {},
   "source": [
    "## 제한사항\n",
    "- 1 ≤ array의 길이 ≤ 100\n",
    "- 1 ≤ array의 원소 ≤ 100\n",
    "- 1 ≤ n ≤ 100\n",
    "- 가장 가까운 수가 여러 개일 경우 더 작은 수를 return 합니다."
   ]
  },
  {
   "attachments": {},
   "cell_type": "markdown",
   "metadata": {},
   "source": [
    "## 입출력의 예\n",
    "|array|n|result\n",
    "|----|:----|:----\n",
    "|[3,10,28]|20|28\n",
    "|[10,11,12]|13|12"
   ]
  },
  {
   "attachments": {},
   "cell_type": "markdown",
   "metadata": {},
   "source": [
    "## 입출력 예 설명\n",
    "입출력 예 #1\n",
    "- 3, 10, 28 중 20과 가장 가까운 수는 28입니다.\n",
    "\n",
    "입출력 예 #2\n",
    "- 10, 11, 12 중 13과 가장 가까운 수는 12입니다."
   ]
  },
  {
   "cell_type": "code",
   "execution_count": 1,
   "metadata": {},
   "outputs": [],
   "source": [
    "def solution(array, n):\n",
    "    array.sort()\n",
    "    answer = 0\n",
    "    com = n+100\n",
    "    for i in array:\n",
    "        if abs(i-n) < com:\n",
    "            com = abs(i-n)\n",
    "            answer = i\n",
    "    return x"
   ]
  },
  {
   "cell_type": "code",
   "execution_count": null,
   "metadata": {},
   "outputs": [],
   "source": []
  }
 ],
 "metadata": {
  "kernelspec": {
   "display_name": "Python 3.9.12 ('base')",
   "language": "python",
   "name": "python3"
  },
  "language_info": {
   "codemirror_mode": {
    "name": "ipython",
    "version": 3
   },
   "file_extension": ".py",
   "mimetype": "text/x-python",
   "name": "python",
   "nbconvert_exporter": "python",
   "pygments_lexer": "ipython3",
   "version": "3.9.12"
  },
  "orig_nbformat": 4,
  "vscode": {
   "interpreter": {
    "hash": "52788d8830c87fd8fdaa047c49e57cb1124d9adf268f7bf2f73a506aa0daac22"
   }
  }
 },
 "nbformat": 4,
 "nbformat_minor": 2
}
